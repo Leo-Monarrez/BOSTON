{
  "nbformat": 4,
  "nbformat_minor": 0,
  "metadata": {
    "colab": {
      "provenance": [],
      "authorship_tag": "ABX9TyMseWu4KQn5u3BqG6JR9XX0",
      "include_colab_link": true
    },
    "kernelspec": {
      "name": "python3",
      "display_name": "Python 3"
    },
    "language_info": {
      "name": "python"
    }
  },
  "cells": [
    {
      "cell_type": "markdown",
      "metadata": {
        "id": "view-in-github",
        "colab_type": "text"
      },
      "source": [
        "<a href=\"https://colab.research.google.com/github/Leo-Monarrez/BOSTON/blob/main/2.ipynb\" target=\"_parent\"><img src=\"https://colab.research.google.com/assets/colab-badge.svg\" alt=\"Open In Colab\"/></a>"
      ]
    },
    {
      "cell_type": "code",
      "execution_count": null,
      "metadata": {
        "id": "xjKkEIWKV_iD"
      },
      "outputs": [],
      "source": [
        "import numpy as np\n",
        "import pandas as pd\n",
        "from sklearn import preprocessing\n",
        "from sklearn import model_selection\n",
        "from sklearn import linear_model\n",
        "from sklearn.preprocessing import PolynomialFeatures\n",
        "file_url = ''\n",
        "df = pd.read_csv(file_url)\n",
        "\n",
        "features = np.array(df.drop('MEDV', 1))\n",
        "features"
      ]
    },
    {
      "cell_type": "code",
      "source": [
        "label = np.array(df['MEDV'])\n",
        "label"
      ],
      "metadata": {
        "id": "b6omxHDJarVY"
      },
      "execution_count": null,
      "outputs": []
    },
    {
      "cell_type": "code",
      "source": [
        "scaled_features = preprocessing.scale(features)\n",
        "scaled_features"
      ],
      "metadata": {
        "id": "UA2KHsCKarXx"
      },
      "execution_count": null,
      "outputs": []
    },
    {
      "cell_type": "code",
      "source": [
        "poly_1_scaled_features = PolynomialFeatures(degree=1).fit_transform(scaled_features)\n",
        "poly_1_scaled_features"
      ],
      "metadata": {
        "id": "uNTy2J9taraD"
      },
      "execution_count": null,
      "outputs": []
    },
    {
      "cell_type": "code",
      "source": [
        "poly_2_scaled_features = PolynomialFeatures(degree=2).fit_transform(scaled_features)\n",
        "poly_2_scaled_features"
      ],
      "metadata": {
        "id": "zwLHNhNJarcU"
      },
      "execution_count": null,
      "outputs": []
    },
    {
      "cell_type": "code",
      "source": [
        "poly_3_scaled_features = PolynomialFeatures(degree=3).fit_transform(scaled_features)\n",
        "poly_3_scaled_features"
      ],
      "metadata": {
        "id": "ftw9eidDarep"
      },
      "execution_count": null,
      "outputs": []
    },
    {
      "cell_type": "code",
      "source": [
        "poly_1_features_train, poly_1_features_test, poly_label_train, poly_label_test = model_selection.train_test_split(poly_1_scaled_features, label, test_size=0.1, random_state=8)\n",
        "poly_2_features_train, poly_2_features_test, poly_label_train, poly_label_test = model_selection.train_test_split(poly_2_scaled_features, label, test_size=0.1, random_state=8)\n",
        "poly_3_features_train, poly_3_features_test, poly_label_train, poly_label_test = model_selection.train_test_split(poly_3_scaled_features, label, test_size=0.1, random_state=8)\n",
        "model_1 = linear_model.LinearRegression()\n",
        "model_1.fit(poly_1_features_train, poly_label_train)\n",
        "model_1_score_train = model_1.score(poly_1_features_train, poly_label_train)\n",
        "model_1_score_train"
      ],
      "metadata": {
        "id": "5mKB4pLNarg-"
      },
      "execution_count": null,
      "outputs": []
    },
    {
      "cell_type": "code",
      "source": [
        "model_1_score_test = model_1.score(poly_1_features_test, poly_label_test)\n",
        "model_1_score_test"
      ],
      "metadata": {
        "id": "I-9QTZOxarjZ"
      },
      "execution_count": null,
      "outputs": []
    },
    {
      "cell_type": "code",
      "source": [
        "model_2 = linear_model.LinearRegression()\n",
        "model_2.fit(poly_2_features_train, poly_label_train)\n",
        "model_2_score_train = model_2.score(poly_2_features_train, poly_label_train)\n",
        "model_2_score_train"
      ],
      "metadata": {
        "id": "XFVPhdgWarmY"
      },
      "execution_count": null,
      "outputs": []
    },
    {
      "cell_type": "code",
      "source": [
        "model_2_score_test = model_2.score(poly_2_features_test, poly_label_test)\n",
        "model_2_score_test"
      ],
      "metadata": {
        "id": "GG0dtq9IaroQ"
      },
      "execution_count": null,
      "outputs": []
    },
    {
      "cell_type": "code",
      "source": [
        "model_3 = linear_model.LinearRegression()\n",
        "model_3.fit(poly_3_features_train, poly_label_train)\n",
        "model_3_score_train = model_3.score(poly_3_features_train, poly_label_train)\n",
        "model_3_score_train"
      ],
      "metadata": {
        "id": "Oe0G8k5narqM"
      },
      "execution_count": null,
      "outputs": []
    },
    {
      "cell_type": "code",
      "source": [
        "model_3_score_test = model_3.score(poly_3_features_test, poly_label_test)\n",
        "model_3_score_test"
      ],
      "metadata": {
        "id": "A_G6hfEFbHD_"
      },
      "execution_count": null,
      "outputs": []
    },
    {
      "cell_type": "code",
      "source": [
        "model_1_prediction = model_1.predict(poly_1_features_test)\n",
        "model_2_prediction = model_2.predict(poly_2_features_test)\n",
        "model_3_prediction = model_3.predict(poly_3_features_test)\n",
        "\n",
        "df_prediction = pd.DataFrame(poly_label_test)\n",
        "df_prediction.rename(columns = {0:'label'}, inplace = True)\n",
        "df_prediction['model_1_prediction'] = pd.DataFrame(model_1_prediction)\n",
        "df_prediction['model_2_prediction'] = pd.DataFrame(model_2_prediction)\n",
        "df_prediction['model_3_prediction'] = pd.DataFrame(model_3_prediction)\n",
        "df_prediction"
      ],
      "metadata": {
        "id": "9jTwiAjNbHGh"
      },
      "execution_count": null,
      "outputs": []
    }
  ]
}