{
  "nbformat": 4,
  "nbformat_minor": 0,
  "metadata": {
    "colab": {
      "provenance": [],
      "authorship_tag": "ABX9TyPOW1PyH1URARZXe9QKhk/5",
      "include_colab_link": true
    },
    "kernelspec": {
      "name": "python3",
      "display_name": "Python 3"
    },
    "language_info": {
      "name": "python"
    }
  },
  "cells": [
    {
      "cell_type": "markdown",
      "metadata": {
        "id": "view-in-github",
        "colab_type": "text"
      },
      "source": [
        "<a href=\"https://colab.research.google.com/github/Leo-Monarrez/BOSTON/blob/main/BOSTON_POLY.ipynb\" target=\"_parent\"><img src=\"https://colab.research.google.com/assets/colab-badge.svg\" alt=\"Open In Colab\"/></a>"
      ]
    },
    {
      "cell_type": "code",
      "execution_count": 16,
      "metadata": {
        "colab": {
          "base_uri": "https://localhost:8080/"
        },
        "id": "xjKkEIWKV_iD",
        "outputId": "a29cbcdf-ecff-44b2-d838-f2ed051ce5d7"
      },
      "outputs": [
        {
          "output_type": "stream",
          "name": "stderr",
          "text": [
            "<ipython-input-16-6bcf6ddef5f1>:10: FutureWarning: In a future version of pandas all arguments of DataFrame.drop except for the argument 'labels' will be keyword-only.\n",
            "  features = np.array(df.drop('MEDV', 1))\n"
          ]
        },
        {
          "output_type": "execute_result",
          "data": {
            "text/plain": [
              "array([[6.3200e-03, 1.8000e+01, 2.3100e+00, ..., 1.5300e+01, 3.9690e+02,\n",
              "        4.9800e+00],\n",
              "       [2.7310e-02, 0.0000e+00, 7.0700e+00, ..., 1.7800e+01, 3.9690e+02,\n",
              "        9.1400e+00],\n",
              "       [2.7290e-02, 0.0000e+00, 7.0700e+00, ..., 1.7800e+01, 3.9283e+02,\n",
              "        4.0300e+00],\n",
              "       ...,\n",
              "       [6.0760e-02, 0.0000e+00, 1.1930e+01, ..., 2.1000e+01, 3.9690e+02,\n",
              "        5.6400e+00],\n",
              "       [1.0959e-01, 0.0000e+00, 1.1930e+01, ..., 2.1000e+01, 3.9345e+02,\n",
              "        6.4800e+00],\n",
              "       [4.7410e-02, 0.0000e+00, 1.1930e+01, ..., 2.1000e+01, 3.9690e+02,\n",
              "        7.8800e+00]])"
            ]
          },
          "metadata": {},
          "execution_count": 16
        }
      ],
      "source": [
        "import numpy as np\n",
        "import pandas as pd\n",
        "from sklearn import preprocessing\n",
        "from sklearn import model_selection\n",
        "from sklearn import linear_model\n",
        "from sklearn.preprocessing import PolynomialFeatures\n",
        "file_url = 'https://raw.githubusercontent.com/Leo-Monarrez/BOSTON/main/housing.csv'\n",
        "df = pd.read_csv(file_url)\n",
        "\n",
        "features = np.array(df.drop('MEDV', 1))\n",
        "features"
      ]
    },
    {
      "cell_type": "code",
      "source": [
        "label = np.array(df['MEDV'])\n",
        "label"
      ],
      "metadata": {
        "id": "b6omxHDJarVY",
        "colab": {
          "base_uri": "https://localhost:8080/"
        },
        "outputId": "ffd008b1-fa10-42f5-b417-f48ebcdd85f7"
      },
      "execution_count": 17,
      "outputs": [
        {
          "output_type": "execute_result",
          "data": {
            "text/plain": [
              "array([24. , 21.6, 34.7, 33.4, 36.2, 28.7, 22.9, 27.1, 16.5, 18.9, 15. ,\n",
              "       18.9, 21.7, 20.4, 18.2, 19.9, 23.1, 17.5, 20.2, 18.2, 13.6, 19.6,\n",
              "       15.2, 14.5, 15.6, 13.9, 16.6, 14.8, 18.4, 21. , 12.7, 14.5, 13.2,\n",
              "       13.1, 13.5, 18.9, 20. , 21. , 24.7, 30.8, 34.9, 26.6, 25.3, 24.7,\n",
              "       21.2, 19.3, 20. , 16.6, 14.4, 19.4, 19.7, 20.5, 25. , 23.4, 18.9,\n",
              "       35.4, 24.7, 31.6, 23.3, 19.6, 18.7, 16. , 22.2, 25. , 33. , 23.5,\n",
              "       19.4, 22. , 17.4, 20.9, 24.2, 21.7, 22.8, 23.4, 24.1, 21.4, 20. ,\n",
              "       20.8, 21.2, 20.3, 28. , 23.9, 24.8, 22.9, 23.9, 26.6, 22.5, 22.2,\n",
              "       23.6, 28.7, 22.6, 22. , 22.9, 25. , 20.6, 28.4, 21.4, 38.7, 43.8,\n",
              "       33.2, 27.5, 26.5, 18.6, 19.3, 20.1, 19.5, 19.5, 20.4, 19.8, 19.4,\n",
              "       21.7, 22.8, 18.8, 18.7, 18.5, 18.3, 21.2, 19.2, 20.4, 19.3, 22. ,\n",
              "       20.3, 20.5, 17.3, 18.8, 21.4, 15.7, 16.2, 18. , 14.3, 19.2, 19.6,\n",
              "       23. , 18.4, 15.6, 18.1, 17.4, 17.1, 13.3, 17.8, 14. , 14.4, 13.4,\n",
              "       15.6, 11.8, 13.8, 15.6, 14.6, 17.8, 15.4, 21.5, 19.6, 15.3, 19.4,\n",
              "       17. , 15.6, 13.1, 41.3, 24.3, 23.3, 27. , 50. , 50. , 50. , 22.7,\n",
              "       25. , 50. , 23.8, 23.8, 22.3, 17.4, 19.1, 23.1, 23.6, 22.6, 29.4,\n",
              "       23.2, 24.6, 29.9, 37.2, 39.8, 36.2, 37.9, 32.5, 26.4, 29.6, 50. ,\n",
              "       32. , 29.8, 34.9, 37. , 30.5, 36.4, 31.1, 29.1, 50. , 33.3, 30.3,\n",
              "       34.6, 34.9, 32.9, 24.1, 42.3, 48.5, 50. , 22.6, 24.4, 22.5, 24.4,\n",
              "       20. , 21.7, 19.3, 22.4, 28.1, 23.7, 25. , 23.3, 28.7, 21.5, 23. ,\n",
              "       26.7, 21.7, 27.5, 30.1, 44.8, 50. , 37.6, 31.6, 46.7, 31.5, 24.3,\n",
              "       31.7, 41.7, 48.3, 29. , 24. , 25.1, 31.5, 23.7, 23.3, 22. , 20.1,\n",
              "       22.2, 23.7, 17.6, 18.5, 24.3, 20.5, 24.5, 26.2, 24.4, 24.8, 29.6,\n",
              "       42.8, 21.9, 20.9, 44. , 50. , 36. , 30.1, 33.8, 43.1, 48.8, 31. ,\n",
              "       36.5, 22.8, 30.7, 50. , 43.5, 20.7, 21.1, 25.2, 24.4, 35.2, 32.4,\n",
              "       32. , 33.2, 33.1, 29.1, 35.1, 45.4, 35.4, 46. , 50. , 32.2, 22. ,\n",
              "       20.1, 23.2, 22.3, 24.8, 28.5, 37.3, 27.9, 23.9, 21.7, 28.6, 27.1,\n",
              "       20.3, 22.5, 29. , 24.8, 22. , 26.4, 33.1, 36.1, 28.4, 33.4, 28.2,\n",
              "       22.8, 20.3, 16.1, 22.1, 19.4, 21.6, 23.8, 16.2, 17.8, 19.8, 23.1,\n",
              "       21. , 23.8, 23.1, 20.4, 18.5, 25. , 24.6, 23. , 22.2, 19.3, 22.6,\n",
              "       19.8, 17.1, 19.4, 22.2, 20.7, 21.1, 19.5, 18.5, 20.6, 19. , 18.7,\n",
              "       32.7, 16.5, 23.9, 31.2, 17.5, 17.2, 23.1, 24.5, 26.6, 22.9, 24.1,\n",
              "       18.6, 30.1, 18.2, 20.6, 17.8, 21.7, 22.7, 22.6, 25. , 19.9, 20.8,\n",
              "       16.8, 21.9, 27.5, 21.9, 23.1, 50. , 50. , 50. , 50. , 50. , 13.8,\n",
              "       13.8, 15. , 13.9, 13.3, 13.1, 10.2, 10.4, 10.9, 11.3, 12.3,  8.8,\n",
              "        7.2, 10.5,  7.4, 10.2, 11.5, 15.1, 23.2,  9.7, 13.8, 12.7, 13.1,\n",
              "       12.5,  8.5,  5. ,  6.3,  5.6,  7.2, 12.1,  8.3,  8.5,  5. , 11.9,\n",
              "       27.9, 17.2, 27.5, 15. , 17.2, 17.9, 16.3,  7. ,  7.2,  7.5, 10.4,\n",
              "        8.8,  8.4, 16.7, 14.2, 20.8, 13.4, 11.7,  8.3, 10.2, 10.9, 11. ,\n",
              "        9.5, 14.5, 14.1, 16.1, 14.3, 11.7, 13.4,  9.6,  8.7,  8.4, 12.8,\n",
              "       10.5, 17.1, 18.4, 15.4, 10.8, 11.8, 14.9, 12.6, 14.1, 13. , 13.4,\n",
              "       15.2, 16.1, 17.8, 14.9, 14.1, 12.7, 13.5, 14.9, 20. , 16.4, 17.7,\n",
              "       19.5, 20.2, 21.4, 19.9, 19. , 19.1, 19.1, 20.1, 19.9, 19.6, 23.2,\n",
              "       29.8, 13.8, 13.3, 16.7, 12. , 14.6, 21.4, 23. , 23.7, 25. , 21.8,\n",
              "       20.6, 21.2, 19.1, 20.6, 15.2,  7. ,  8.1, 13.6, 20.1, 21.8, 24.5,\n",
              "       23.1, 19.7, 18.3, 21.2, 17.5, 16.8, 22.4, 20.6, 23.9, 22. , 11.9])"
            ]
          },
          "metadata": {},
          "execution_count": 17
        }
      ]
    },
    {
      "cell_type": "code",
      "source": [
        "scaled_features = preprocessing.scale(features)\n",
        "scaled_features"
      ],
      "metadata": {
        "id": "UA2KHsCKarXx",
        "colab": {
          "base_uri": "https://localhost:8080/"
        },
        "outputId": "3d9f0a8e-ffef-4be9-e825-0ae57c516e09"
      },
      "execution_count": 18,
      "outputs": [
        {
          "output_type": "execute_result",
          "data": {
            "text/plain": [
              "array([[-0.41978194,  0.28482986, -1.2879095 , ..., -1.45900038,\n",
              "         0.44105193, -1.0755623 ],\n",
              "       [-0.41733926, -0.48772236, -0.59338101, ..., -0.30309415,\n",
              "         0.44105193, -0.49243937],\n",
              "       [-0.41734159, -0.48772236, -0.59338101, ..., -0.30309415,\n",
              "         0.39642699, -1.2087274 ],\n",
              "       ...,\n",
              "       [-0.41344658, -0.48772236,  0.11573841, ...,  1.17646583,\n",
              "         0.44105193, -0.98304761],\n",
              "       [-0.40776407, -0.48772236,  0.11573841, ...,  1.17646583,\n",
              "         0.4032249 , -0.86530163],\n",
              "       [-0.41500016, -0.48772236,  0.11573841, ...,  1.17646583,\n",
              "         0.44105193, -0.66905833]])"
            ]
          },
          "metadata": {},
          "execution_count": 18
        }
      ]
    },
    {
      "cell_type": "code",
      "source": [
        "poly_1_scaled_features = PolynomialFeatures(degree=1).fit_transform(scaled_features)\n",
        "poly_1_scaled_features"
      ],
      "metadata": {
        "id": "uNTy2J9taraD",
        "colab": {
          "base_uri": "https://localhost:8080/"
        },
        "outputId": "7911726c-40fd-42d1-c321-db1bb7ab7b69"
      },
      "execution_count": 19,
      "outputs": [
        {
          "output_type": "execute_result",
          "data": {
            "text/plain": [
              "array([[ 1.        , -0.41978194,  0.28482986, ..., -1.45900038,\n",
              "         0.44105193, -1.0755623 ],\n",
              "       [ 1.        , -0.41733926, -0.48772236, ..., -0.30309415,\n",
              "         0.44105193, -0.49243937],\n",
              "       [ 1.        , -0.41734159, -0.48772236, ..., -0.30309415,\n",
              "         0.39642699, -1.2087274 ],\n",
              "       ...,\n",
              "       [ 1.        , -0.41344658, -0.48772236, ...,  1.17646583,\n",
              "         0.44105193, -0.98304761],\n",
              "       [ 1.        , -0.40776407, -0.48772236, ...,  1.17646583,\n",
              "         0.4032249 , -0.86530163],\n",
              "       [ 1.        , -0.41500016, -0.48772236, ...,  1.17646583,\n",
              "         0.44105193, -0.66905833]])"
            ]
          },
          "metadata": {},
          "execution_count": 19
        }
      ]
    },
    {
      "cell_type": "code",
      "source": [
        "poly_2_scaled_features = PolynomialFeatures(degree=2).fit_transform(scaled_features)\n",
        "poly_2_scaled_features"
      ],
      "metadata": {
        "id": "zwLHNhNJarcU",
        "colab": {
          "base_uri": "https://localhost:8080/"
        },
        "outputId": "2bd27427-7b25-43d4-f09a-b997446c640e"
      },
      "execution_count": 20,
      "outputs": [
        {
          "output_type": "execute_result",
          "data": {
            "text/plain": [
              "array([[ 1.        , -0.41978194,  0.28482986, ...,  0.19452681,\n",
              "        -0.47437883,  1.15683427],\n",
              "       [ 1.        , -0.41733926, -0.48772236, ...,  0.19452681,\n",
              "        -0.21719133,  0.24249653],\n",
              "       [ 1.        , -0.41734159, -0.48772236, ...,  0.15715436,\n",
              "        -0.47917217,  1.46102192],\n",
              "       ...,\n",
              "       [ 1.        , -0.41344658, -0.48772236, ...,  0.19452681,\n",
              "        -0.43357505,  0.9663826 ],\n",
              "       [ 1.        , -0.40776407, -0.48772236, ...,  0.16259032,\n",
              "        -0.34891116,  0.74874691],\n",
              "       [ 1.        , -0.41500016, -0.48772236, ...,  0.19452681,\n",
              "        -0.29508947,  0.44763905]])"
            ]
          },
          "metadata": {},
          "execution_count": 20
        }
      ]
    },
    {
      "cell_type": "code",
      "source": [
        "poly_3_scaled_features = PolynomialFeatures(degree=3).fit_transform(scaled_features)\n",
        "poly_3_scaled_features"
      ],
      "metadata": {
        "id": "ftw9eidDarep",
        "colab": {
          "base_uri": "https://localhost:8080/"
        },
        "outputId": "ebf177ef-2d16-4efa-a828-a99c8ecb12a0"
      },
      "execution_count": 21,
      "outputs": [
        {
          "output_type": "execute_result",
          "data": {
            "text/plain": [
              "array([[ 1.        , -0.41978194,  0.28482986, ..., -0.2092257 ,\n",
              "         0.51022399, -1.24424733],\n",
              "       [ 1.        , -0.41733926, -0.48772236, ..., -0.09579266,\n",
              "         0.10695356, -0.11941484],\n",
              "       [ 1.        , -0.41734159, -0.48772236, ..., -0.18995678,\n",
              "         0.57918853, -1.76597723],\n",
              "       ...,\n",
              "       [ 1.        , -0.41344658, -0.48772236, ..., -0.19122911,\n",
              "         0.42622491, -0.9500001 ],\n",
              "       [ 1.        , -0.40776407, -0.48772236, ..., -0.14068967,\n",
              "         0.3019134 , -0.64789192],\n",
              "       [ 1.        , -0.41500016, -0.48772236, ..., -0.13014978,\n",
              "         0.19743207, -0.29949664]])"
            ]
          },
          "metadata": {},
          "execution_count": 21
        }
      ]
    },
    {
      "cell_type": "code",
      "source": [
        "poly_1_features_train, poly_1_features_test, poly_label_train, poly_label_test = model_selection.train_test_split(poly_1_scaled_features, label, test_size=0.1, random_state=8)\n",
        "poly_2_features_train, poly_2_features_test, poly_label_train, poly_label_test = model_selection.train_test_split(poly_2_scaled_features, label, test_size=0.1, random_state=8)\n",
        "poly_3_features_train, poly_3_features_test, poly_label_train, poly_label_test = model_selection.train_test_split(poly_3_scaled_features, label, test_size=0.1, random_state=8)\n",
        "model_1 = linear_model.LinearRegression()\n",
        "model_1.fit(poly_1_features_train, poly_label_train)\n",
        "model_1_score_train = model_1.score(poly_1_features_train, poly_label_train)\n",
        "model_1_score_train"
      ],
      "metadata": {
        "colab": {
          "base_uri": "https://localhost:8080/"
        },
        "id": "5mKB4pLNarg-",
        "outputId": "6a086659-3c50-4e42-e5c4-33b827e99a2d"
      },
      "execution_count": 22,
      "outputs": [
        {
          "output_type": "execute_result",
          "data": {
            "text/plain": [
              "0.7473028975901506"
            ]
          },
          "metadata": {},
          "execution_count": 22
        }
      ]
    },
    {
      "cell_type": "code",
      "source": [
        "model_1_score_test = model_1.score(poly_1_features_test, poly_label_test)\n",
        "model_1_score_test"
      ],
      "metadata": {
        "colab": {
          "base_uri": "https://localhost:8080/"
        },
        "id": "I-9QTZOxarjZ",
        "outputId": "17daa0fb-a230-451b-c698-dd4cc5106bcc"
      },
      "execution_count": 23,
      "outputs": [
        {
          "output_type": "execute_result",
          "data": {
            "text/plain": [
              "0.6806043226089127"
            ]
          },
          "metadata": {},
          "execution_count": 23
        }
      ]
    },
    {
      "cell_type": "code",
      "source": [
        "model_2 = linear_model.LinearRegression()\n",
        "model_2.fit(poly_2_features_train, poly_label_train)\n",
        "model_2_score_train = model_2.score(poly_2_features_train, poly_label_train)\n",
        "model_2_score_train"
      ],
      "metadata": {
        "colab": {
          "base_uri": "https://localhost:8080/"
        },
        "id": "XFVPhdgWarmY",
        "outputId": "5d748797-5272-4ffc-a0aa-f23067939bba"
      },
      "execution_count": 24,
      "outputs": [
        {
          "output_type": "execute_result",
          "data": {
            "text/plain": [
              "0.9330693967960804"
            ]
          },
          "metadata": {},
          "execution_count": 24
        }
      ]
    },
    {
      "cell_type": "code",
      "source": [
        "model_2_score_test = model_2.score(poly_2_features_test, poly_label_test)\n",
        "model_2_score_test"
      ],
      "metadata": {
        "colab": {
          "base_uri": "https://localhost:8080/"
        },
        "id": "GG0dtq9IaroQ",
        "outputId": "064dbb43-b5a2-4d47-b62b-8509ea216e00"
      },
      "execution_count": 25,
      "outputs": [
        {
          "output_type": "execute_result",
          "data": {
            "text/plain": [
              "0.831716044700928"
            ]
          },
          "metadata": {},
          "execution_count": 25
        }
      ]
    },
    {
      "cell_type": "code",
      "source": [
        "model_3 = linear_model.LinearRegression()\n",
        "model_3.fit(poly_3_features_train, poly_label_train)\n",
        "model_3_score_train = model_3.score(poly_3_features_train, poly_label_train)\n",
        "model_3_score_train"
      ],
      "metadata": {
        "colab": {
          "base_uri": "https://localhost:8080/"
        },
        "id": "Oe0G8k5narqM",
        "outputId": "e7db0e2b-c8fd-421a-a5cc-3b4f2c61b4cb"
      },
      "execution_count": 26,
      "outputs": [
        {
          "output_type": "execute_result",
          "data": {
            "text/plain": [
              "1.0"
            ]
          },
          "metadata": {},
          "execution_count": 26
        }
      ]
    },
    {
      "cell_type": "code",
      "source": [
        "model_3_score_test = model_3.score(poly_3_features_test, poly_label_test)\n",
        "model_3_score_test"
      ],
      "metadata": {
        "colab": {
          "base_uri": "https://localhost:8080/"
        },
        "id": "A_G6hfEFbHD_",
        "outputId": "8f38e5a1-b97e-4451-cca9-7f6d68a28049"
      },
      "execution_count": 27,
      "outputs": [
        {
          "output_type": "execute_result",
          "data": {
            "text/plain": [
              "-401403.0057434383"
            ]
          },
          "metadata": {},
          "execution_count": 27
        }
      ]
    },
    {
      "cell_type": "code",
      "source": [
        "model_1_prediction = model_1.predict(poly_1_features_test)\n",
        "model_2_prediction = model_2.predict(poly_2_features_test)\n",
        "model_3_prediction = model_3.predict(poly_3_features_test)\n",
        "\n",
        "df_prediction = pd.DataFrame(poly_label_test)\n",
        "df_prediction.rename(columns = {0:'label'}, inplace = True)\n",
        "df_prediction['model_1_prediction'] = pd.DataFrame(model_1_prediction)\n",
        "df_prediction['model_2_prediction'] = pd.DataFrame(model_2_prediction)\n",
        "df_prediction['model_3_prediction'] = pd.DataFrame(model_3_prediction)\n",
        "df_prediction"
      ],
      "metadata": {
        "colab": {
          "base_uri": "https://localhost:8080/",
          "height": 1000
        },
        "id": "9jTwiAjNbHGh",
        "outputId": "71a0f399-5afe-4cd3-d8ec-88ba4b03f4b7"
      },
      "execution_count": 28,
      "outputs": [
        {
          "output_type": "execute_result",
          "data": {
            "text/plain": [
              "    label  model_1_prediction  model_2_prediction  model_3_prediction\n",
              "0    18.5           19.275384           19.977051         -259.054600\n",
              "1    12.7           11.352219           14.552490           87.875675\n",
              "2    21.9           38.126044           32.001953       -36406.661570\n",
              "3    22.0           27.162814           26.768799         -511.557087\n",
              "4    50.0           40.624018           46.439453         5874.001927\n",
              "5    36.2           27.662116           26.188477           54.283615\n",
              "6    16.5           11.049223           17.250488        -1238.718633\n",
              "7    32.4           36.347036           31.982666         2609.573010\n",
              "8    24.6           29.050437           27.279785          349.444900\n",
              "9    50.0           34.860743           54.644531        -1662.756207\n",
              "10   13.9           13.366888           15.775391         -204.077260\n",
              "11   11.9            7.881704           17.337158          -17.159728\n",
              "12   16.2           15.370780           15.883301         -345.569863\n",
              "13   21.4           24.536537           22.651855          873.680918\n",
              "14   14.1           16.128191           14.394287           31.564534\n",
              "15   22.8           28.689566           26.984619          -10.088021\n",
              "16   20.2           22.779223           22.465576           42.288633\n",
              "17   20.6           22.288300           21.322510          230.757811\n",
              "18   21.7           20.835560           24.330566        -3131.829504\n",
              "19    8.5            7.186754            7.299072          -44.859809\n",
              "20   19.7           21.072671           21.427246          534.425933\n",
              "21   24.7           25.223958           24.432861        -4882.722773\n",
              "22   24.0           30.167687           25.096191        -2567.519433\n",
              "23   31.7           33.206407           35.120605          -84.310125\n",
              "24   28.6           28.204143           30.093994         1174.855389\n",
              "25   33.4           35.657585           38.063721          141.325038\n",
              "26    7.4            5.529353            8.649414          -38.796822\n",
              "27   14.8           14.691199           16.113525         -249.469463\n",
              "28   25.0           25.250865           22.820557           58.579946\n",
              "29   17.0           22.952740           14.325928        10687.414140\n",
              "30   31.0           34.582109           33.350586         1932.138392\n",
              "31   12.6           18.424941           14.093262           11.950413\n",
              "32   19.4           19.796996           18.635986          -18.840710\n",
              "33   11.9           22.560512           18.182617          -20.144384\n",
              "34   24.8           25.205379           24.105469         -583.761896\n",
              "35   23.7           27.054021           28.562012           25.869664\n",
              "36   29.0           32.179122           33.633057          659.511138\n",
              "37   21.6           25.544606           22.599854          123.992075\n",
              "38   14.3           14.230923           17.052734         -633.521177\n",
              "39   11.5           14.327703           14.977295            2.378731\n",
              "40   21.7           22.117403           19.166992        -2147.289155\n",
              "41   20.7           21.674100           23.991211         -322.985687\n",
              "42   50.0           35.940179           41.926025          177.784691\n",
              "43   33.8           35.010364           34.703613          -65.140198\n",
              "44   33.0           23.220547           30.865723         3643.017057\n",
              "45   19.6           18.811559           16.222168         4916.509963\n",
              "46   17.8           20.050009           29.571777       -17254.005567\n",
              "47   21.8           21.117315           18.899170          -23.014672\n",
              "48   19.4           25.725392           19.904053        -1195.401569\n",
              "49   29.6           24.591664           24.190918         -486.627185\n",
              "50   17.1           20.027097           18.745117          398.770064"
            ],
            "text/html": [
              "\n",
              "\n",
              "  <div id=\"df-459dea7b-070a-4e82-92f4-450249b23ece\">\n",
              "    <div class=\"colab-df-container\">\n",
              "      <div>\n",
              "<style scoped>\n",
              "    .dataframe tbody tr th:only-of-type {\n",
              "        vertical-align: middle;\n",
              "    }\n",
              "\n",
              "    .dataframe tbody tr th {\n",
              "        vertical-align: top;\n",
              "    }\n",
              "\n",
              "    .dataframe thead th {\n",
              "        text-align: right;\n",
              "    }\n",
              "</style>\n",
              "<table border=\"1\" class=\"dataframe\">\n",
              "  <thead>\n",
              "    <tr style=\"text-align: right;\">\n",
              "      <th></th>\n",
              "      <th>label</th>\n",
              "      <th>model_1_prediction</th>\n",
              "      <th>model_2_prediction</th>\n",
              "      <th>model_3_prediction</th>\n",
              "    </tr>\n",
              "  </thead>\n",
              "  <tbody>\n",
              "    <tr>\n",
              "      <th>0</th>\n",
              "      <td>18.5</td>\n",
              "      <td>19.275384</td>\n",
              "      <td>19.977051</td>\n",
              "      <td>-259.054600</td>\n",
              "    </tr>\n",
              "    <tr>\n",
              "      <th>1</th>\n",
              "      <td>12.7</td>\n",
              "      <td>11.352219</td>\n",
              "      <td>14.552490</td>\n",
              "      <td>87.875675</td>\n",
              "    </tr>\n",
              "    <tr>\n",
              "      <th>2</th>\n",
              "      <td>21.9</td>\n",
              "      <td>38.126044</td>\n",
              "      <td>32.001953</td>\n",
              "      <td>-36406.661570</td>\n",
              "    </tr>\n",
              "    <tr>\n",
              "      <th>3</th>\n",
              "      <td>22.0</td>\n",
              "      <td>27.162814</td>\n",
              "      <td>26.768799</td>\n",
              "      <td>-511.557087</td>\n",
              "    </tr>\n",
              "    <tr>\n",
              "      <th>4</th>\n",
              "      <td>50.0</td>\n",
              "      <td>40.624018</td>\n",
              "      <td>46.439453</td>\n",
              "      <td>5874.001927</td>\n",
              "    </tr>\n",
              "    <tr>\n",
              "      <th>5</th>\n",
              "      <td>36.2</td>\n",
              "      <td>27.662116</td>\n",
              "      <td>26.188477</td>\n",
              "      <td>54.283615</td>\n",
              "    </tr>\n",
              "    <tr>\n",
              "      <th>6</th>\n",
              "      <td>16.5</td>\n",
              "      <td>11.049223</td>\n",
              "      <td>17.250488</td>\n",
              "      <td>-1238.718633</td>\n",
              "    </tr>\n",
              "    <tr>\n",
              "      <th>7</th>\n",
              "      <td>32.4</td>\n",
              "      <td>36.347036</td>\n",
              "      <td>31.982666</td>\n",
              "      <td>2609.573010</td>\n",
              "    </tr>\n",
              "    <tr>\n",
              "      <th>8</th>\n",
              "      <td>24.6</td>\n",
              "      <td>29.050437</td>\n",
              "      <td>27.279785</td>\n",
              "      <td>349.444900</td>\n",
              "    </tr>\n",
              "    <tr>\n",
              "      <th>9</th>\n",
              "      <td>50.0</td>\n",
              "      <td>34.860743</td>\n",
              "      <td>54.644531</td>\n",
              "      <td>-1662.756207</td>\n",
              "    </tr>\n",
              "    <tr>\n",
              "      <th>10</th>\n",
              "      <td>13.9</td>\n",
              "      <td>13.366888</td>\n",
              "      <td>15.775391</td>\n",
              "      <td>-204.077260</td>\n",
              "    </tr>\n",
              "    <tr>\n",
              "      <th>11</th>\n",
              "      <td>11.9</td>\n",
              "      <td>7.881704</td>\n",
              "      <td>17.337158</td>\n",
              "      <td>-17.159728</td>\n",
              "    </tr>\n",
              "    <tr>\n",
              "      <th>12</th>\n",
              "      <td>16.2</td>\n",
              "      <td>15.370780</td>\n",
              "      <td>15.883301</td>\n",
              "      <td>-345.569863</td>\n",
              "    </tr>\n",
              "    <tr>\n",
              "      <th>13</th>\n",
              "      <td>21.4</td>\n",
              "      <td>24.536537</td>\n",
              "      <td>22.651855</td>\n",
              "      <td>873.680918</td>\n",
              "    </tr>\n",
              "    <tr>\n",
              "      <th>14</th>\n",
              "      <td>14.1</td>\n",
              "      <td>16.128191</td>\n",
              "      <td>14.394287</td>\n",
              "      <td>31.564534</td>\n",
              "    </tr>\n",
              "    <tr>\n",
              "      <th>15</th>\n",
              "      <td>22.8</td>\n",
              "      <td>28.689566</td>\n",
              "      <td>26.984619</td>\n",
              "      <td>-10.088021</td>\n",
              "    </tr>\n",
              "    <tr>\n",
              "      <th>16</th>\n",
              "      <td>20.2</td>\n",
              "      <td>22.779223</td>\n",
              "      <td>22.465576</td>\n",
              "      <td>42.288633</td>\n",
              "    </tr>\n",
              "    <tr>\n",
              "      <th>17</th>\n",
              "      <td>20.6</td>\n",
              "      <td>22.288300</td>\n",
              "      <td>21.322510</td>\n",
              "      <td>230.757811</td>\n",
              "    </tr>\n",
              "    <tr>\n",
              "      <th>18</th>\n",
              "      <td>21.7</td>\n",
              "      <td>20.835560</td>\n",
              "      <td>24.330566</td>\n",
              "      <td>-3131.829504</td>\n",
              "    </tr>\n",
              "    <tr>\n",
              "      <th>19</th>\n",
              "      <td>8.5</td>\n",
              "      <td>7.186754</td>\n",
              "      <td>7.299072</td>\n",
              "      <td>-44.859809</td>\n",
              "    </tr>\n",
              "    <tr>\n",
              "      <th>20</th>\n",
              "      <td>19.7</td>\n",
              "      <td>21.072671</td>\n",
              "      <td>21.427246</td>\n",
              "      <td>534.425933</td>\n",
              "    </tr>\n",
              "    <tr>\n",
              "      <th>21</th>\n",
              "      <td>24.7</td>\n",
              "      <td>25.223958</td>\n",
              "      <td>24.432861</td>\n",
              "      <td>-4882.722773</td>\n",
              "    </tr>\n",
              "    <tr>\n",
              "      <th>22</th>\n",
              "      <td>24.0</td>\n",
              "      <td>30.167687</td>\n",
              "      <td>25.096191</td>\n",
              "      <td>-2567.519433</td>\n",
              "    </tr>\n",
              "    <tr>\n",
              "      <th>23</th>\n",
              "      <td>31.7</td>\n",
              "      <td>33.206407</td>\n",
              "      <td>35.120605</td>\n",
              "      <td>-84.310125</td>\n",
              "    </tr>\n",
              "    <tr>\n",
              "      <th>24</th>\n",
              "      <td>28.6</td>\n",
              "      <td>28.204143</td>\n",
              "      <td>30.093994</td>\n",
              "      <td>1174.855389</td>\n",
              "    </tr>\n",
              "    <tr>\n",
              "      <th>25</th>\n",
              "      <td>33.4</td>\n",
              "      <td>35.657585</td>\n",
              "      <td>38.063721</td>\n",
              "      <td>141.325038</td>\n",
              "    </tr>\n",
              "    <tr>\n",
              "      <th>26</th>\n",
              "      <td>7.4</td>\n",
              "      <td>5.529353</td>\n",
              "      <td>8.649414</td>\n",
              "      <td>-38.796822</td>\n",
              "    </tr>\n",
              "    <tr>\n",
              "      <th>27</th>\n",
              "      <td>14.8</td>\n",
              "      <td>14.691199</td>\n",
              "      <td>16.113525</td>\n",
              "      <td>-249.469463</td>\n",
              "    </tr>\n",
              "    <tr>\n",
              "      <th>28</th>\n",
              "      <td>25.0</td>\n",
              "      <td>25.250865</td>\n",
              "      <td>22.820557</td>\n",
              "      <td>58.579946</td>\n",
              "    </tr>\n",
              "    <tr>\n",
              "      <th>29</th>\n",
              "      <td>17.0</td>\n",
              "      <td>22.952740</td>\n",
              "      <td>14.325928</td>\n",
              "      <td>10687.414140</td>\n",
              "    </tr>\n",
              "    <tr>\n",
              "      <th>30</th>\n",
              "      <td>31.0</td>\n",
              "      <td>34.582109</td>\n",
              "      <td>33.350586</td>\n",
              "      <td>1932.138392</td>\n",
              "    </tr>\n",
              "    <tr>\n",
              "      <th>31</th>\n",
              "      <td>12.6</td>\n",
              "      <td>18.424941</td>\n",
              "      <td>14.093262</td>\n",
              "      <td>11.950413</td>\n",
              "    </tr>\n",
              "    <tr>\n",
              "      <th>32</th>\n",
              "      <td>19.4</td>\n",
              "      <td>19.796996</td>\n",
              "      <td>18.635986</td>\n",
              "      <td>-18.840710</td>\n",
              "    </tr>\n",
              "    <tr>\n",
              "      <th>33</th>\n",
              "      <td>11.9</td>\n",
              "      <td>22.560512</td>\n",
              "      <td>18.182617</td>\n",
              "      <td>-20.144384</td>\n",
              "    </tr>\n",
              "    <tr>\n",
              "      <th>34</th>\n",
              "      <td>24.8</td>\n",
              "      <td>25.205379</td>\n",
              "      <td>24.105469</td>\n",
              "      <td>-583.761896</td>\n",
              "    </tr>\n",
              "    <tr>\n",
              "      <th>35</th>\n",
              "      <td>23.7</td>\n",
              "      <td>27.054021</td>\n",
              "      <td>28.562012</td>\n",
              "      <td>25.869664</td>\n",
              "    </tr>\n",
              "    <tr>\n",
              "      <th>36</th>\n",
              "      <td>29.0</td>\n",
              "      <td>32.179122</td>\n",
              "      <td>33.633057</td>\n",
              "      <td>659.511138</td>\n",
              "    </tr>\n",
              "    <tr>\n",
              "      <th>37</th>\n",
              "      <td>21.6</td>\n",
              "      <td>25.544606</td>\n",
              "      <td>22.599854</td>\n",
              "      <td>123.992075</td>\n",
              "    </tr>\n",
              "    <tr>\n",
              "      <th>38</th>\n",
              "      <td>14.3</td>\n",
              "      <td>14.230923</td>\n",
              "      <td>17.052734</td>\n",
              "      <td>-633.521177</td>\n",
              "    </tr>\n",
              "    <tr>\n",
              "      <th>39</th>\n",
              "      <td>11.5</td>\n",
              "      <td>14.327703</td>\n",
              "      <td>14.977295</td>\n",
              "      <td>2.378731</td>\n",
              "    </tr>\n",
              "    <tr>\n",
              "      <th>40</th>\n",
              "      <td>21.7</td>\n",
              "      <td>22.117403</td>\n",
              "      <td>19.166992</td>\n",
              "      <td>-2147.289155</td>\n",
              "    </tr>\n",
              "    <tr>\n",
              "      <th>41</th>\n",
              "      <td>20.7</td>\n",
              "      <td>21.674100</td>\n",
              "      <td>23.991211</td>\n",
              "      <td>-322.985687</td>\n",
              "    </tr>\n",
              "    <tr>\n",
              "      <th>42</th>\n",
              "      <td>50.0</td>\n",
              "      <td>35.940179</td>\n",
              "      <td>41.926025</td>\n",
              "      <td>177.784691</td>\n",
              "    </tr>\n",
              "    <tr>\n",
              "      <th>43</th>\n",
              "      <td>33.8</td>\n",
              "      <td>35.010364</td>\n",
              "      <td>34.703613</td>\n",
              "      <td>-65.140198</td>\n",
              "    </tr>\n",
              "    <tr>\n",
              "      <th>44</th>\n",
              "      <td>33.0</td>\n",
              "      <td>23.220547</td>\n",
              "      <td>30.865723</td>\n",
              "      <td>3643.017057</td>\n",
              "    </tr>\n",
              "    <tr>\n",
              "      <th>45</th>\n",
              "      <td>19.6</td>\n",
              "      <td>18.811559</td>\n",
              "      <td>16.222168</td>\n",
              "      <td>4916.509963</td>\n",
              "    </tr>\n",
              "    <tr>\n",
              "      <th>46</th>\n",
              "      <td>17.8</td>\n",
              "      <td>20.050009</td>\n",
              "      <td>29.571777</td>\n",
              "      <td>-17254.005567</td>\n",
              "    </tr>\n",
              "    <tr>\n",
              "      <th>47</th>\n",
              "      <td>21.8</td>\n",
              "      <td>21.117315</td>\n",
              "      <td>18.899170</td>\n",
              "      <td>-23.014672</td>\n",
              "    </tr>\n",
              "    <tr>\n",
              "      <th>48</th>\n",
              "      <td>19.4</td>\n",
              "      <td>25.725392</td>\n",
              "      <td>19.904053</td>\n",
              "      <td>-1195.401569</td>\n",
              "    </tr>\n",
              "    <tr>\n",
              "      <th>49</th>\n",
              "      <td>29.6</td>\n",
              "      <td>24.591664</td>\n",
              "      <td>24.190918</td>\n",
              "      <td>-486.627185</td>\n",
              "    </tr>\n",
              "    <tr>\n",
              "      <th>50</th>\n",
              "      <td>17.1</td>\n",
              "      <td>20.027097</td>\n",
              "      <td>18.745117</td>\n",
              "      <td>398.770064</td>\n",
              "    </tr>\n",
              "  </tbody>\n",
              "</table>\n",
              "</div>\n",
              "      <button class=\"colab-df-convert\" onclick=\"convertToInteractive('df-459dea7b-070a-4e82-92f4-450249b23ece')\"\n",
              "              title=\"Convert this dataframe to an interactive table.\"\n",
              "              style=\"display:none;\">\n",
              "\n",
              "  <svg xmlns=\"http://www.w3.org/2000/svg\" height=\"24px\"viewBox=\"0 0 24 24\"\n",
              "       width=\"24px\">\n",
              "    <path d=\"M0 0h24v24H0V0z\" fill=\"none\"/>\n",
              "    <path d=\"M18.56 5.44l.94 2.06.94-2.06 2.06-.94-2.06-.94-.94-2.06-.94 2.06-2.06.94zm-11 1L8.5 8.5l.94-2.06 2.06-.94-2.06-.94L8.5 2.5l-.94 2.06-2.06.94zm10 10l.94 2.06.94-2.06 2.06-.94-2.06-.94-.94-2.06-.94 2.06-2.06.94z\"/><path d=\"M17.41 7.96l-1.37-1.37c-.4-.4-.92-.59-1.43-.59-.52 0-1.04.2-1.43.59L10.3 9.45l-7.72 7.72c-.78.78-.78 2.05 0 2.83L4 21.41c.39.39.9.59 1.41.59.51 0 1.02-.2 1.41-.59l7.78-7.78 2.81-2.81c.8-.78.8-2.07 0-2.86zM5.41 20L4 18.59l7.72-7.72 1.47 1.35L5.41 20z\"/>\n",
              "  </svg>\n",
              "      </button>\n",
              "\n",
              "\n",
              "\n",
              "    <div id=\"df-d41d538c-82de-4281-bc25-276ec8f804d9\">\n",
              "      <button class=\"colab-df-quickchart\" onclick=\"quickchart('df-d41d538c-82de-4281-bc25-276ec8f804d9')\"\n",
              "              title=\"Suggest charts.\"\n",
              "              style=\"display:none;\">\n",
              "\n",
              "<svg xmlns=\"http://www.w3.org/2000/svg\" height=\"24px\"viewBox=\"0 0 24 24\"\n",
              "     width=\"24px\">\n",
              "    <g>\n",
              "        <path d=\"M19 3H5c-1.1 0-2 .9-2 2v14c0 1.1.9 2 2 2h14c1.1 0 2-.9 2-2V5c0-1.1-.9-2-2-2zM9 17H7v-7h2v7zm4 0h-2V7h2v10zm4 0h-2v-4h2v4z\"/>\n",
              "    </g>\n",
              "</svg>\n",
              "      </button>\n",
              "    </div>\n",
              "\n",
              "<style>\n",
              "  .colab-df-quickchart {\n",
              "    background-color: #E8F0FE;\n",
              "    border: none;\n",
              "    border-radius: 50%;\n",
              "    cursor: pointer;\n",
              "    display: none;\n",
              "    fill: #1967D2;\n",
              "    height: 32px;\n",
              "    padding: 0 0 0 0;\n",
              "    width: 32px;\n",
              "  }\n",
              "\n",
              "  .colab-df-quickchart:hover {\n",
              "    background-color: #E2EBFA;\n",
              "    box-shadow: 0px 1px 2px rgba(60, 64, 67, 0.3), 0px 1px 3px 1px rgba(60, 64, 67, 0.15);\n",
              "    fill: #174EA6;\n",
              "  }\n",
              "\n",
              "  [theme=dark] .colab-df-quickchart {\n",
              "    background-color: #3B4455;\n",
              "    fill: #D2E3FC;\n",
              "  }\n",
              "\n",
              "  [theme=dark] .colab-df-quickchart:hover {\n",
              "    background-color: #434B5C;\n",
              "    box-shadow: 0px 1px 3px 1px rgba(0, 0, 0, 0.15);\n",
              "    filter: drop-shadow(0px 1px 2px rgba(0, 0, 0, 0.3));\n",
              "    fill: #FFFFFF;\n",
              "  }\n",
              "</style>\n",
              "\n",
              "    <script>\n",
              "      async function quickchart(key) {\n",
              "        const containerElement = document.querySelector('#' + key);\n",
              "        const charts = await google.colab.kernel.invokeFunction(\n",
              "            'suggestCharts', [key], {});\n",
              "      }\n",
              "    </script>\n",
              "\n",
              "      <script>\n",
              "\n",
              "function displayQuickchartButton(domScope) {\n",
              "  let quickchartButtonEl =\n",
              "    domScope.querySelector('#df-d41d538c-82de-4281-bc25-276ec8f804d9 button.colab-df-quickchart');\n",
              "  quickchartButtonEl.style.display =\n",
              "    google.colab.kernel.accessAllowed ? 'block' : 'none';\n",
              "}\n",
              "\n",
              "        displayQuickchartButton(document);\n",
              "      </script>\n",
              "      <style>\n",
              "    .colab-df-container {\n",
              "      display:flex;\n",
              "      flex-wrap:wrap;\n",
              "      gap: 12px;\n",
              "    }\n",
              "\n",
              "    .colab-df-convert {\n",
              "      background-color: #E8F0FE;\n",
              "      border: none;\n",
              "      border-radius: 50%;\n",
              "      cursor: pointer;\n",
              "      display: none;\n",
              "      fill: #1967D2;\n",
              "      height: 32px;\n",
              "      padding: 0 0 0 0;\n",
              "      width: 32px;\n",
              "    }\n",
              "\n",
              "    .colab-df-convert:hover {\n",
              "      background-color: #E2EBFA;\n",
              "      box-shadow: 0px 1px 2px rgba(60, 64, 67, 0.3), 0px 1px 3px 1px rgba(60, 64, 67, 0.15);\n",
              "      fill: #174EA6;\n",
              "    }\n",
              "\n",
              "    [theme=dark] .colab-df-convert {\n",
              "      background-color: #3B4455;\n",
              "      fill: #D2E3FC;\n",
              "    }\n",
              "\n",
              "    [theme=dark] .colab-df-convert:hover {\n",
              "      background-color: #434B5C;\n",
              "      box-shadow: 0px 1px 3px 1px rgba(0, 0, 0, 0.15);\n",
              "      filter: drop-shadow(0px 1px 2px rgba(0, 0, 0, 0.3));\n",
              "      fill: #FFFFFF;\n",
              "    }\n",
              "  </style>\n",
              "\n",
              "      <script>\n",
              "        const buttonEl =\n",
              "          document.querySelector('#df-459dea7b-070a-4e82-92f4-450249b23ece button.colab-df-convert');\n",
              "        buttonEl.style.display =\n",
              "          google.colab.kernel.accessAllowed ? 'block' : 'none';\n",
              "\n",
              "        async function convertToInteractive(key) {\n",
              "          const element = document.querySelector('#df-459dea7b-070a-4e82-92f4-450249b23ece');\n",
              "          const dataTable =\n",
              "            await google.colab.kernel.invokeFunction('convertToInteractive',\n",
              "                                                     [key], {});\n",
              "          if (!dataTable) return;\n",
              "\n",
              "          const docLinkHtml = 'Like what you see? Visit the ' +\n",
              "            '<a target=\"_blank\" href=https://colab.research.google.com/notebooks/data_table.ipynb>data table notebook</a>'\n",
              "            + ' to learn more about interactive tables.';\n",
              "          element.innerHTML = '';\n",
              "          dataTable['output_type'] = 'display_data';\n",
              "          await google.colab.output.renderOutput(dataTable, element);\n",
              "          const docLink = document.createElement('div');\n",
              "          docLink.innerHTML = docLinkHtml;\n",
              "          element.appendChild(docLink);\n",
              "        }\n",
              "      </script>\n",
              "    </div>\n",
              "  </div>\n"
            ]
          },
          "metadata": {},
          "execution_count": 28
        }
      ]
    }
  ]
}